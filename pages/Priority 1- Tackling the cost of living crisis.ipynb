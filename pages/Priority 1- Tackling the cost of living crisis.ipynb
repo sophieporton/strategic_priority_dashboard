{
 "cells": [
  {
   "cell_type": "code",
   "execution_count": null,
   "metadata": {},
   "outputs": [],
   "source": [
    "#import required packages\n",
    "\n",
    "import streamlit as st \n",
    "import plotly.express as px\n",
    "import pandas as pd\n",
    "import numpy as np\n",
    "from bokeh.plotting import figure, show, output_file\n",
    "from bokeh.palettes import Viridis3"
   ]
  },
  {
   "cell_type": "code",
   "execution_count": 3,
   "metadata": {},
   "outputs": [],
   "source": [
    "#define function to plot oas by ward\n",
    "\n",
    "def plot_wards(df, column='', string='', agg='',title=''):\n",
    "    df=df[df.MEASURES_NAME== 'Percent']\n",
    "    df=df[df[column].str.contains(string)==True]\n",
    "    fig = px.choropleth(df.dissolve(by='ward_name', aggfunc ={'OBS_VALUE':agg}),\n",
    "                   geojson=df.dissolve(by='ward_name', aggfunc ={'OBS_VALUE':agg}).geometry,\n",
    "                   locations=df.dissolve(by='ward_name',aggfunc ={'OBS_VALUE':agg}).index,\n",
    "                   color=\"OBS_VALUE\",\n",
    "                   color_continuous_scale = 'viridis_r',\n",
    "                   projection=\"mercator\",\n",
    "                   hover_name=df.dissolve(by='ward_name',aggfunc ={'OBS_VALUE':agg}).index )\n",
    "    fig.update_geos(fitbounds=\"locations\", visible=False)\n",
    "    fig.update_layout(coloraxis_colorbar=dict(title=title))\n",
    "    fig.update_traces(hovertemplate='Ward name: <b>%{location}</b> <br>Percentage: <b>%{z:.2f}%</b>')\n",
    "    st.plotly_chart(fig,use_container_width = True)"
   ]
  },
  {
   "cell_type": "code",
   "execution_count": 4,
   "metadata": {},
   "outputs": [],
   "source": [
    "#define function to merge spatial data with variable data\n",
    "\n",
    "def merge_spatial_data(gdf, df, left_on=\"\", right_on=\"\"):\n",
    "    gdf=gdf.merge(df, left_on=left_on, right_on=right_on)\n",
    "    return gdf"
   ]
  },
  {
   "cell_type": "code",
   "execution_count": 5,
   "metadata": {},
   "outputs": [],
   "source": [
    "#read in aggregated oa by ward dataset from main python file \n",
    "\n",
    "merged_wd_oa = st.session_state['merged_wd_oa']"
   ]
  },
  {
   "cell_type": "code",
   "execution_count": 21,
   "metadata": {},
   "outputs": [
    {
     "ename": "NameError",
     "evalue": "name 'merged_wd_oa' is not defined",
     "output_type": "error",
     "traceback": [
      "\u001b[1;31m---------------------------------------------------------------------------\u001b[0m",
      "\u001b[1;31mNameError\u001b[0m                                 Traceback (most recent call last)",
      "Input \u001b[1;32mIn [21]\u001b[0m, in \u001b[0;36m<cell line: 10>\u001b[1;34m()\u001b[0m\n\u001b[0;32m      7\u001b[0m   deprivation_oa\u001b[38;5;241m.\u001b[39mto_csv(\u001b[38;5;124m'\u001b[39m\u001b[38;5;124mlbth_census_2021_deprivation_oa.csv\u001b[39m\u001b[38;5;124m'\u001b[39m)\n\u001b[0;32m      9\u001b[0m \u001b[38;5;66;03m#merge deprivation data with spatial data\u001b[39;00m\n\u001b[1;32m---> 10\u001b[0m deprivation_merge\u001b[38;5;241m=\u001b[39mmerge_spatial_data(\u001b[43mmerged_wd_oa\u001b[49m, deprivation_oa,\u001b[38;5;124m\"\u001b[39m\u001b[38;5;124mOA21CD\u001b[39m\u001b[38;5;124m\"\u001b[39m, \u001b[38;5;124m\"\u001b[39m\u001b[38;5;124mGEOGRAPHY_CODE\u001b[39m\u001b[38;5;124m\"\u001b[39m)\n",
      "\u001b[1;31mNameError\u001b[0m: name 'merged_wd_oa' is not defined"
     ]
    }
   ],
   "source": [
    "#read in deprivation by oa dataset\n",
    "\n",
    "try:\n",
    "  deprivation_oa = pd.read_csv('lbth_census_2021_deprivation_oa.csv')\n",
    "except:\n",
    "  deprivation_oa = pd.read_csv('https://www.nomisweb.co.uk/api/v01/dataset/NM_2031_1.data.csv?date=latest&geography=629165479...629165982,629303674...629303812,629317322...629317326,629317336...629317343,629317349...629317360,629317362...629317366,629317371,629317374,629317376,629317378,629317379,629317381,629317385,629317388...629317392,629317394...629317397,629317399...629317403,629317405...629317407,629317409,629317411,629317412,629317416...629317420,629317422...629317424,629317426,629317429...629317434,629317436,629317437,629317440...629317442,629317444...629317450,629317452...629317456,629317459...629317461,629317463,629317466...629317468,629317472,629317474...629317479,629317481,629317483,629317486,629317487,629317490,629317492,629317494,629317495,629317497,629317499...629317502,629317504,629317505,629317507...629317509,629317512...629317514,629317517,629317520,629317523,629317525,629317527,629317531,629317534,629317535,629317537,629317538,629317540,629317543...629317548,629317551,629317554,629317555,629317558,629317560,629317562,629317563,629317565,629317566,629317569...629317573,629317576...629317578,629317580,629317582,629317584,629317585,629317587,629317590...629317592,629317594,629317596...629317599,629317601,629317603,629317604,629317606,629317607,629317610,629317612,629317613,629317615...629317617,629317619...629317621,629317623,629317625...629317629,629317631...629317634,629317636,629317640,629317648,629317650...629317659,629317662,629317663,629317666...629317669,629317672...629317687,629317689,629317691,629317694,629317695,629317697,629317698,629317700,629317701,629317703,629317704,629317706,629317707,629317711...629317714,629317716,629317718...629317720,629317722...629317724,629317726,629317729,629317731,629317733,629317736...629317742,629317744,629317746...629317748,629323624,629323625&c2021_dep_6=1...5&measures=20301')\n",
    "  deprivation_oa.to_csv('lbth_census_2021_deprivation_oa.csv')\n",
    "\n",
    "#merge deprivation data with spatial data\n",
    "deprivation_merge=merge_spatial_data(merged_wd_oa, deprivation_oa,\"OA21CD\", \"GEOGRAPHY_CODE\")"
   ]
  },
  {
   "cell_type": "code",
   "execution_count": 22,
   "metadata": {},
   "outputs": [
    {
     "ename": "NameError",
     "evalue": "name 'merged_wd_oa' is not defined",
     "output_type": "error",
     "traceback": [
      "\u001b[1;31m---------------------------------------------------------------------------\u001b[0m",
      "\u001b[1;31mNameError\u001b[0m                                 Traceback (most recent call last)",
      "Input \u001b[1;32mIn [22]\u001b[0m, in \u001b[0;36m<cell line: 9>\u001b[1;34m()\u001b[0m\n\u001b[0;32m      6\u001b[0m   deprivation_oa_2011 \u001b[38;5;241m=\u001b[39m pd\u001b[38;5;241m.\u001b[39mread_csv(\u001b[38;5;124m'\u001b[39m\u001b[38;5;124mhttps://www.nomisweb.co.uk/api/v01/dataset/NM_519_1.data.csv?date=latest&geography=1254117467...1254118025,1254259398...1254259586&rural_urban=0&c_deprived=1...5&measures=20100\u001b[39m\u001b[38;5;124m'\u001b[39m)\n\u001b[0;32m      8\u001b[0m \u001b[38;5;66;03m#merge deprivation data with spatial data\u001b[39;00m\n\u001b[1;32m----> 9\u001b[0m deprivation_merge_2011\u001b[38;5;241m=\u001b[39mmerge_spatial_data(\u001b[43mmerged_wd_oa\u001b[49m, deprivation_oa_2011,\u001b[38;5;124m\"\u001b[39m\u001b[38;5;124mOA21CD\u001b[39m\u001b[38;5;124m\"\u001b[39m, \u001b[38;5;124m\"\u001b[39m\u001b[38;5;124mGEOGRAPHY_CODE\u001b[39m\u001b[38;5;124m\"\u001b[39m)\n",
      "\u001b[1;31mNameError\u001b[0m: name 'merged_wd_oa' is not defined"
     ]
    }
   ],
   "source": [
    "#read in deprivation by oa dataset\n",
    "\n",
    "try:\n",
    "  deprivation_oa_2011 = pd.read_csv('lbth_census_2011_deprivation_oa.csv')\n",
    "except:\n",
    "  deprivation_oa_2011 = pd.read_csv('https://www.nomisweb.co.uk/api/v01/dataset/NM_519_1.data.csv?date=latest&geography=1254117467...1254118025,1254259398...1254259586&rural_urban=0&c_deprived=1...5&measures=20100')\n",
    "\n",
    "#merge deprivation data with spatial data\n",
    "deprivation_merge_2011=merge_spatial_data(merged_wd_oa, deprivation_oa_2011,\"OA21CD\", \"GEOGRAPHY_CODE\")"
   ]
  },
  {
   "cell_type": "code",
   "execution_count": 7,
   "metadata": {},
   "outputs": [],
   "source": [
    "#read in relative deprivation 2021 dataset\n",
    "\n",
    "try:\n",
    "  deprivation_2021 = pd.read_csv('lbth_census_2021_deprivation_2021.csv')\n",
    "except:\n",
    "  deprivation_2021 = pd.read_csv('https://www.nomisweb.co.uk/api/v01/dataset/NM_2031_1.data.csv?date=latest&geography=645923010,2092957699,2013265927&c2021_dep_6=1...5&measures=20301')\n",
    "  deprivation_2021.to_csv('lbth_census_2021_deprivation_2021.csv')"
   ]
  },
  {
   "cell_type": "code",
   "execution_count": 8,
   "metadata": {},
   "outputs": [],
   "source": [
    "#read in relative deprivation 2021 dataset\n",
    "\n",
    "try:\n",
    " deprivation_2011 = pd.read_csv('lbth_census_2021_deprivation_2011.csv')\n",
    "except:\n",
    " deprivation_2011 = pd.read_csv('https://www.nomisweb.co.uk/api/v01/dataset/NM_519_1.data.csv?date=latest&geography=1946157257,2092957699,2013265927&rural_urban=0&c_deprived=1...5&measures=20100')\n",
    " deprivation_2011.to_csv('lbth_census_2021_deprivation_2011.csv')"
   ]
  },
  {
   "cell_type": "code",
   "execution_count": 9,
   "metadata": {},
   "outputs": [],
   "source": [
    "#convert value to percent in 2011 dataset\n",
    "\n",
    "deprivation_2011['OBS_VALUE'] = (\n",
    "    np.select(\n",
    "        condlist=[deprivation_2011['GEOGRAPHY_NAME'] == 'Tower Hamlets', deprivation_2011['GEOGRAPHY_NAME'] =='England', deprivation_2011['GEOGRAPHY_NAME'] =='London'],\n",
    "        choicelist=[(deprivation_2011['OBS_VALUE']/101257)*100,(deprivation_2011['OBS_VALUE']/22063368)*100,(deprivation_2011['OBS_VALUE']/3266173)*100] \n",
    "        ))"
   ]
  },
  {
   "cell_type": "code",
   "execution_count": 10,
   "metadata": {},
   "outputs": [],
   "source": [
    "#rename column deprivation column to allow for concatenate\n",
    "\n",
    "deprivation_2011.rename(columns={'C_DEPRIVED_NAME': 'C2021_DEP_6_NAME'}, inplace=True)"
   ]
  },
  {
   "cell_type": "code",
   "execution_count": null,
   "metadata": {},
   "outputs": [],
   "source": [
    "# Replace multiple substrings\n",
    "\n",
    "deprivation_2011= deprivation_2011.apply(lambda x: x.replace({'one':'1','two': '2',\n",
    "    'three': '3','four': '4'},regex=True))"
   ]
  },
  {
   "cell_type": "code",
   "execution_count": 11,
   "metadata": {},
   "outputs": [],
   "source": [
    "#concatenate 2011 and 2021 dataframes \n",
    "\n",
    "deprivation_2011_2021=pd.concat([deprivation_2011,deprivation_2021])"
   ]
  },
  {
   "cell_type": "code",
   "execution_count": 13,
   "metadata": {},
   "outputs": [],
   "source": [
    "#split dataframe by deprivation index\n",
    "\n",
    "any_dimension= deprivation_2011_2021[deprivation_2011_2021['C2021_DEP_6_NAME'].str.contains('any dimension',na=False)].reset_index(drop=True)\n",
    "\n",
    "one_dimension=deprivation_2011_2021[deprivation_2011_2021['C2021_DEP_6_NAME'].str.contains('1',na=False)].reset_index(drop=True)\n",
    "\n",
    "two_dimension=deprivation_2011_2021[deprivation_2011_2021['C2021_DEP_6_NAME'].str.contains('2',na=False)].reset_index(drop=True)\n",
    "\n",
    "three_dimension=deprivation_2011_2021[deprivation_2011_2021['C2021_DEP_6_NAME'].str.contains('3',na=False)].reset_index(drop=True)\n",
    "\n",
    "four_dimension=deprivation_2011_2021[deprivation_2011_2021['C2021_DEP_6_NAME'].str.contains('4',na=False)].reset_index(drop=True)\n"
   ]
  },
  {
   "cell_type": "code",
   "execution_count": 20,
   "metadata": {},
   "outputs": [],
   "source": [
    "# create a new plot with a title and axis labels\n",
    "\n",
    "def trendline(df):\n",
    "    p = figure(title=\"\", x_axis_label='Year', y_axis_label='Percentage')\n",
    "\n",
    "    for (name, group), color in zip(any_dimension.groupby('GEOGRAPHY_NAME'), Viridis3):\n",
    "        p.line(x=group.DATE, y=group.OBS_VALUE, legend_label=str(name), color=color,line_width=3)\n",
    "    \n",
    "    p.xaxis.ticker=[2011,2021] #customise x axis tick values \n",
    "\n",
    "    p.xaxis.axis_label_text_font_size = \"20pt\"\n",
    "    p.xaxis.major_label_text_font_size = \"15pt\"\n",
    "    p.xaxis.axis_label_text_font = \"arial\"\n",
    "    p.xaxis.axis_label_text_color = \"black\"\n",
    "\n",
    "    p.yaxis.axis_label_text_font_size = \"20pt\"\n",
    "    p.yaxis.major_label_text_font_size = \"15pt\"\n",
    "    p.yaxis.axis_label_text_font = \"arial\"\n",
    "    p.yaxis.axis_label_text_color = \"black\"\n",
    "\n",
    "    p.legend.location = \"bottom_right\"\n",
    "    p.legend.label_text_font_size = \"15pt\"\n",
    "    p.legend.label_text_font = \"arial\"\n",
    "    p.legend.label_text_color = \"black\"\n",
    "\n",
    "    p.title.text_font_size = '15pt'\n",
    "\n",
    "    st.bokeh_chart(p, use_container_width=True)"
   ]
  },
  {
   "cell_type": "code",
   "execution_count": 15,
   "metadata": {},
   "outputs": [
    {
     "name": "stderr",
     "output_type": "stream",
     "text": [
      "2023-01-17 10:30:50.211 \n",
      "  \u001b[33m\u001b[1mWarning:\u001b[0m to view this Streamlit app on a browser, run it with the following\n",
      "  command:\n",
      "\n",
      "    streamlit run C:\\Users\\sophie.porton\\Anaconda3\\lib\\site-packages\\ipykernel_launcher.py [ARGUMENTS]\n"
     ]
    },
    {
     "ename": "NameError",
     "evalue": "name 'deprivation_merge' is not defined",
     "output_type": "error",
     "traceback": [
      "\u001b[1;31m---------------------------------------------------------------------------\u001b[0m",
      "\u001b[1;31mNameError\u001b[0m                                 Traceback (most recent call last)",
      "Input \u001b[1;32mIn [15]\u001b[0m, in \u001b[0;36m<cell line: 4>\u001b[1;34m()\u001b[0m\n\u001b[0;32m     13\u001b[0m col1, col2\u001b[38;5;241m=\u001b[39mst\u001b[38;5;241m.\u001b[39mcolumns(\u001b[38;5;241m2\u001b[39m)\n\u001b[0;32m     14\u001b[0m \u001b[38;5;28;01mwith\u001b[39;00m col1:\n\u001b[1;32m---> 15\u001b[0m  plot_wards(\u001b[43mdeprivation_merge\u001b[49m,column\u001b[38;5;241m=\u001b[39m\u001b[38;5;124m'\u001b[39m\u001b[38;5;124mC2021_DEP_6_NAME\u001b[39m\u001b[38;5;124m'\u001b[39m, string\u001b[38;5;241m=\u001b[39m\u001b[38;5;124m'\u001b[39m\u001b[38;5;124mHousehold is not deprived in any dimension\u001b[39m\u001b[38;5;124m'\u001b[39m,agg\u001b[38;5;241m=\u001b[39m\u001b[38;5;124m'\u001b[39m\u001b[38;5;124mmean\u001b[39m\u001b[38;5;124m'\u001b[39m,\n\u001b[0;32m     16\u001b[0m  title\u001b[38;5;241m=\u001b[39m\u001b[38;5;124m'\u001b[39m\u001b[38;5;124mPercentage of Households\u001b[39m\u001b[38;5;124m'\u001b[39m)\n\u001b[0;32m     17\u001b[0m \u001b[38;5;28;01mwith\u001b[39;00m col2:\n\u001b[0;32m     18\u001b[0m  st\u001b[38;5;241m.\u001b[39mbokeh_chart(p, use_container_width\u001b[38;5;241m=\u001b[39m\u001b[38;5;28;01mTrue\u001b[39;00m)\n",
      "\u001b[1;31mNameError\u001b[0m: name 'deprivation_merge' is not defined"
     ]
    }
   ],
   "source": [
    "with st.sidebar:\n",
    "    add_radio = st.radio(label='Variable selection', options=('Household deprivation','Homelessness'))\n",
    "\n",
    "if add_radio == \"Household deprivation\":\n",
    "     st.title('Household deprivation')\n",
    "     deprivation_radio= st.radio(\"Deprivation index\", ('Household is not deprived in any dimension',\n",
    "     'Household is deprived in one dimension',\n",
    "     'Household is deprived in two dimensions',\n",
    "     'Household is deprived in three dimensions',\n",
    "     'Household is deprived in four dimensions'))\n",
    "\n",
    "     if deprivation_radio =='Household is not deprived in any dimension': \n",
    "        col1, col2=st.columns(2)\n",
    "        with col1:\n",
    "         plot_wards(deprivation_merge,column='C2021_DEP_6_NAME', string='Household is not deprived in any dimension',agg='mean',\n",
    "         title='Percentage of Households')\n",
    "         plot_wards(deprivation_merge_2011),column='C2021_DEP_6_NAME', string='Household is not deprived in any dimension',agg='mean',\n",
    "         title='Percentage of Households')\n",
    "        with col2:\n",
    "         trendline(any_dimension)\n",
    "    \n",
    "     elif deprivation_radio =='Household is deprived in one dimension':  \n",
    "      plot_wards(deprivation_merge,column='C2021_DEP_6_NAME', string='Household is deprived in one dimension',agg='mean',\n",
    "       title='Percentage of Households')\n",
    "\n",
    "     elif deprivation_radio =='Household is deprived in two dimensions': \n",
    "      plot_wards(deprivation_merge,column='C2021_DEP_6_NAME', string='Household is deprived in two dimensions',agg='mean',\n",
    "       title='Percentage of Households')\n",
    "\n",
    "     elif deprivation_radio =='Household is deprived in three dimensions': \n",
    "        plot_wards(deprivation_merge,column='C2021_DEP_6_NAME', string='Household is deprived in three dimensions',agg='mean',\n",
    "       title='Percentage of Households')\n",
    "\n",
    "     elif deprivation_radio== 'Household is deprived in four dimensions':\n",
    "      plot_wards(deprivation_merge,column='C2021_DEP_6_NAME', string='Household is deprived in four dimensions',agg='mean',\n",
    "       title='Percentage of Households')"
   ]
  }
 ],
 "metadata": {
  "kernelspec": {
   "display_name": "Python 3 (ipykernel)",
   "language": "python",
   "name": "python3"
  },
  "language_info": {
   "codemirror_mode": {
    "name": "ipython",
    "version": 3
   },
   "file_extension": ".py",
   "mimetype": "text/x-python",
   "name": "python",
   "nbconvert_exporter": "python",
   "pygments_lexer": "ipython3",
   "version": "3.9.12"
  },
  "vscode": {
   "interpreter": {
    "hash": "8780240cd15199c0d31e0e99a43f0d9bdf3803161400b6e4ad03b46bb5c18bc3"
   }
  }
 },
 "nbformat": 4,
 "nbformat_minor": 2
}
